{
 "cells": [
  {
   "cell_type": "code",
   "execution_count": 1,
   "metadata": {
    "collapsed": true
   },
   "outputs": [],
   "source": [
    "# -*- coding: UTF-8 -*-\n",
    "from bs4 import BeautifulSoup\n",
    "import requests\n",
    "import html5lib\n",
    "from collections import defaultdict"
   ]
  },
  {
   "cell_type": "code",
   "execution_count": 2,
   "metadata": {
    "collapsed": true
   },
   "outputs": [],
   "source": [
    "url = \"https://www.etax.nat.gov.tw/etw-main/web/ETW183W2_10603/\"\n",
    "req =requests.get(url)\n",
    "req.encoding='utf-8' #even the html applies utf-8, still need to set the encoding process again\n",
    "soup = BeautifulSoup(req.text, 'html.parser')"
   ]
  },
  {
   "cell_type": "code",
   "execution_count": 7,
   "metadata": {
    "scrolled": true
   },
   "outputs": [
    {
     "name": "stdout",
     "output_type": "stream",
     "text": [
      "[<table class=\"table table-bordered\" summary=\"統一發票中獎號碼單\">\n",
      "<caption class=\"hide\">\n",
      "    統一發票\n",
      "   </caption>\n",
      "<tbody>\n",
      "<tr>\n",
      "<th id=\"months\">月份</th>\n",
      "<td class=\"title\" headers=\"months\"> 03 ~ 04 月 </td>\n",
      "</tr>\n",
      "<tr>\n",
      "<th id=\"specialPrize\" rowspan=\"2\">特別獎</th>\n",
      "<td class=\"number\" headers=\"specialPrize\"> 74748874 </td>\n",
      "</tr>\n",
      "<tr>\n",
      "<td headers=\"specialPrize\"> 同期統一發票收執聯8位數號碼與特別獎號碼相同者獎金1,000萬元 </td>\n",
      "</tr>\n",
      "<tr>\n",
      "<th id=\"grandPrize\" rowspan=\"2\">特獎</th>\n",
      "<td class=\"number\" headers=\"grandPrize\"> 82528918 </td>\n",
      "</tr>\n",
      "<tr>\n",
      "<td headers=\"grandPrize\"> 同期統一發票收執聯8位數號碼與特獎號碼相同者獎金200萬元 </td>\n",
      "</tr>\n",
      "<tr>\n",
      "<th id=\"firstPrize\" rowspan=\"2\">頭獎</th>\n",
      "<td class=\"number\" headers=\"firstPrize\"> 07836485、13410946、96152286 </td>\n",
      "</tr>\n",
      "<tr>\n",
      "<td headers=\"firstPrize\"> 同期統一發票收執聯8位數號碼與頭獎號碼相同者獎金20萬元 </td>\n",
      "</tr>\n",
      "<tr>\n",
      "<th id=\"twoPrize\">二獎</th>\n",
      "<td headers=\"twoPrize\"> 同期統一發票收執聯末7 位數號碼與頭獎中獎號碼末7 位相同者各得獎金4 萬元 </td>\n",
      "</tr>\n",
      "<tr>\n",
      "<th id=\"threePrize\">三獎</th>\n",
      "<td headers=\"threeAwards\"> 同期統一發票收執聯末6 位數號碼與頭獎中獎號碼末6 位相同者各得獎金1 萬元 </td>\n",
      "</tr>\n",
      "<tr>\n",
      "<th id=\"fourPrize\">四獎</th>\n",
      "<td headers=\"fourPrizes\"> 同期統一發票收執聯末5 位數號碼與頭獎中獎號碼末5 位相同者各得獎金4 千元 </td>\n",
      "</tr>\n",
      "<tr>\n",
      "<th id=\"fivePrize\">五獎</th>\n",
      "<td headers=\"fivePrize\"> 同期統一發票收執聯末4 位數號碼與頭獎中獎號碼末4 位相同者各得獎金 1 千元 </td>\n",
      "</tr>\n",
      "<tr>\n",
      "<th id=\"sixPrize\">六獎</th>\n",
      "<td headers=\"sixPrize\"> 同期統一發票收執聯末3 位數號碼與 頭獎中獎號碼末3 位相同者各得獎金 2 百元 </td>\n",
      "</tr>\n",
      "<tr>\n",
      "<th id=\"addSixPrize\">增開六獎</th>\n",
      "<td class=\"number\" headers=\"addSixPrize\"> 996 </td>\n",
      "</tr>\n",
      "<tr>\n",
      "<th id=\"precautions\">領獎注意事項</th>\n",
      "<td class=\"des\" headers=\"precautions\">\n",
      "<div style=\"margin-left: 11.7pt;\">\n",
      "<div style=\"margin-left: 11.7pt;\">\n",
      "<p style=\"margin-left: 11.7pt;\"> 1.領獎期間自106年06月06日起至106年09月05日止，請於郵局公告之兌獎營業時間內辦理，中獎人填妥領獎收據並在收據上粘貼0.4%印花稅票【中五獎(含)以上者】，攜帶國民身分證（非本國國籍人士得以護照、居留證等文件替代）及中獎統一發票收執聯兌領獎金。中特別獎、特獎、頭獎者請向各直轄市及各縣、市經指定之郵局領取獎金；中二獎、三獎、四獎、五獎、六獎者請向各地郵局兌獎。（各地郵局延時營業窗口及夜間郵局均不辦理兌獎業務。）<br/> 2.統一發票收執聯未依規定載明金額者，不得領獎。<br/> 3.統一發票買受人為政府機關、公營事業、公立學校、部隊及營業人者，不得領獎。<br/> 4.中四獎(含)以上者，依規定應由發獎單位扣繳20%所得稅款。<br/> 5.中獎之統一發票，每張按其最高中獎獎別限領1個獎金。<br/> 6.其他有關領獎事項均依「統一發票給獎辦法」規定辦理。<br/> 7.若有任何兌獎疑義，請洽詢服務專線電話：(02)2396-1651<br/> 8.本期無實體電子發票中獎號碼，公告於財政部稅務入口網站：<a href=\"http://invoice.etax.nat.gov.tw/\" title=\"http://invoice.etax.nat.gov.tw/\">http://invoice.etax.nat.gov.tw/</a></p>\n",
      "</div>\n",
      "</div> <p>  </p> </td>\n",
      "</tr>\n",
      "</tbody>\n",
      "</table>]\n"
     ]
    }
   ],
   "source": [
    "tables = soup('table', 'table table-bordered')\n",
    "\n",
    "print(tables) # Problem resolved"
   ]
  },
  {
   "cell_type": "code",
   "execution_count": 33,
   "metadata": {},
   "outputs": [],
   "source": [
    "def return_key():\n",
    "    tags = []\n",
    "    for tag in soup.table.find_all('th'):\n",
    "        #print(tag.string)\n",
    "        if tag.string[0] in  ['月', '特', '頭', '增'] :\n",
    "            tags.append(tag.string)\n",
    "    \n",
    "    return tags #all data in thead\n",
    "def return_val():\n",
    "    tags = []\n",
    "    for tag in soup.table.find_all('td'):\n",
    "        try:\n",
    "            if tag.string[1:3].isdigit():\n",
    "                tags.append(tag.string[1:-1])\n",
    "        except: continue\n",
    "    return tags\n",
    "\n",
    "parsed_data = list(zip(return_key(), return_val()))"
   ]
  },
  {
   "cell_type": "code",
   "execution_count": 34,
   "metadata": {},
   "outputs": [
    {
     "data": {
      "text/plain": [
       "[('月份', '03 ~ 04 月'),\n",
       " ('特別獎', '74748874'),\n",
       " ('特獎', '82528918'),\n",
       " ('頭獎', '07836485、13410946、96152286'),\n",
       " ('增開六獎', '996')]"
      ]
     },
     "execution_count": 34,
     "metadata": {},
     "output_type": "execute_result"
    }
   ],
   "source": [
    "parsed_data"
   ]
  },
  {
   "cell_type": "code",
   "execution_count": 35,
   "metadata": {},
   "outputs": [
    {
     "data": {
      "text/plain": [
       "defaultdict(str,\n",
       "            {'增開六獎': '996',\n",
       "             '月份': '03 ~ 04 月',\n",
       "             '特別獎': '74748874',\n",
       "             '特獎': '82528918',\n",
       "             '頭獎': '07836485、13410946、96152286'})"
      ]
     },
     "execution_count": 35,
     "metadata": {},
     "output_type": "execute_result"
    }
   ],
   "source": [
    "dictt = defaultdict(str)\n",
    "for key, value in list(zip(return_key(), return_val())):\n",
    "    dictt[key] = value\n",
    "dictt"
   ]
  },
  {
   "cell_type": "code",
   "execution_count": 137,
   "metadata": {
    "collapsed": true
   },
   "outputs": [],
   "source": [
    "#for sibling in soup.table.find_all('th'):  #all data in thead\n",
    "#    if sibling.string[0] not in  ['二', '三', '四', '五', '六', '領'] :\n",
    "#        print(sibling.string)\n",
    "#for number in soup.table.find_all('span'): #less data in span (under tbody)\n",
    "#    print(number.string) "
   ]
  },
  {
   "cell_type": "code",
   "execution_count": null,
   "metadata": {
    "collapsed": true
   },
   "outputs": [],
   "source": []
  }
 ],
 "metadata": {
  "anaconda-cloud": {},
  "kernelspec": {
   "display_name": "Python [default]",
   "language": "python",
   "name": "python3"
  },
  "language_info": {
   "codemirror_mode": {
    "name": "ipython",
    "version": 3
   },
   "file_extension": ".py",
   "mimetype": "text/x-python",
   "name": "python",
   "nbconvert_exporter": "python",
   "pygments_lexer": "ipython3",
   "version": "3.5.4"
  }
 },
 "nbformat": 4,
 "nbformat_minor": 1
}
