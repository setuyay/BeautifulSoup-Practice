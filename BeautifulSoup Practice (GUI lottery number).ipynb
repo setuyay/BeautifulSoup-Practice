{
 "cells": [
  {
   "cell_type": "code",
   "execution_count": 66,
   "metadata": {
    "collapsed": false
   },
   "outputs": [],
   "source": [
    "# -*- coding: UTF-8 -*-\n",
    "from bs4 import BeautifulSoup\n",
    "import requests\n",
    "import html5lib\n",
    "from collections import defaultdict"
   ]
  },
  {
   "cell_type": "code",
   "execution_count": 67,
   "metadata": {
    "collapsed": false
   },
   "outputs": [],
   "source": [
    "url = \"https://www.etax.nat.gov.tw/etw-main/web/ETW183W2_10603/\"\n",
    "req =requests.get(url)\n",
    "req.encoding='utf-8' #even the html applies utf-8, still need to set the encoding process again\n",
    "soup = BeautifulSoup(req.text, 'html.parser')"
   ]
  },
  {
   "cell_type": "code",
   "execution_count": 105,
   "metadata": {
    "collapsed": false
   },
   "outputs": [],
   "source": [
    "tables = soup('table', 'table table-bordered')\n",
    "\n",
    "#print(tables) # Problem resolved"
   ]
  },
  {
   "cell_type": "code",
   "execution_count": 126,
   "metadata": {
    "collapsed": false
   },
   "outputs": [],
   "source": [
    "def return_key():\n",
    "    tags = []\n",
    "    for tag in soup.table.find_all('th'):\n",
    "        if tag.string[0] not in  ['二', '三', '四', '五', '六', '領'] :\n",
    "            tags.append(tag.string)\n",
    "    return tags #all data in thead\n",
    "def return_val():\n",
    "    tags = []\n",
    "    for tag in soup.table.find_all('span'):\n",
    "        tags.append(tag.string)\n",
    "    return tags\n",
    "\n",
    "parsed_data = list(zip(return_key(), return_val()))"
   ]
  },
  {
   "cell_type": "code",
   "execution_count": 127,
   "metadata": {
    "collapsed": false
   },
   "outputs": [
    {
     "data": {
      "text/plain": [
       "[('月份', '03 ~04月'),\n",
       " ('特別獎', '74748874'),\n",
       " ('特獎', '82528918'),\n",
       " ('頭獎', '07836485、13410946、96152286'),\n",
       " ('增開六獎', '996')]"
      ]
     },
     "execution_count": 127,
     "metadata": {},
     "output_type": "execute_result"
    }
   ],
   "source": [
    "parsed_data"
   ]
  },
  {
   "cell_type": "code",
   "execution_count": 136,
   "metadata": {
    "collapsed": false
   },
   "outputs": [
    {
     "data": {
      "text/plain": [
       "defaultdict(str,\n",
       "            {'增開六獎': '996',\n",
       "             '月份': '03 ~04月',\n",
       "             '特別獎': '74748874',\n",
       "             '特獎': '82528918',\n",
       "             '頭獎': '07836485、13410946、96152286'})"
      ]
     },
     "execution_count": 136,
     "metadata": {},
     "output_type": "execute_result"
    }
   ],
   "source": [
    "dictt = defaultdict(str)\n",
    "for key, value in list(zip(return_key(), return_val())):\n",
    "    dictt[key] = value\n",
    "dictt"
   ]
  },
  {
   "cell_type": "code",
   "execution_count": 137,
   "metadata": {
    "collapsed": false
   },
   "outputs": [],
   "source": [
    "#for sibling in soup.table.find_all('th'):  #all data in thead\n",
    "#    if sibling.string[0] not in  ['二', '三', '四', '五', '六', '領'] :\n",
    "#        print(sibling.string)\n",
    "#for number in soup.table.find_all('span'): #less data in span (under tbody)\n",
    "#    print(number.string) "
   ]
  },
  {
   "cell_type": "code",
   "execution_count": null,
   "metadata": {
    "collapsed": true
   },
   "outputs": [],
   "source": []
  }
 ],
 "metadata": {
  "anaconda-cloud": {},
  "kernelspec": {
   "display_name": "Python [default]",
   "language": "python",
   "name": "python3"
  },
  "language_info": {
   "codemirror_mode": {
    "name": "ipython",
    "version": 3
   },
   "file_extension": ".py",
   "mimetype": "text/x-python",
   "name": "python",
   "nbconvert_exporter": "python",
   "pygments_lexer": "ipython3",
   "version": "3.5.2"
  }
 },
 "nbformat": 4,
 "nbformat_minor": 1
}
